{
 "cells": [
  {
   "cell_type": "code",
   "execution_count": 1,
   "id": "f82f2ea0",
   "metadata": {},
   "outputs": [],
   "source": [
    "%load_ext autoreload\n",
    "%autoreload 2\n",
    "from logistic import *"
   ]
  },
  {
   "cell_type": "markdown",
   "id": "0d99cb69",
   "metadata": {},
   "source": [
    "### Task 1: BBOW + Logistic Regression Implementation"
   ]
  },
  {
   "cell_type": "code",
   "execution_count": 2,
   "id": "c5a17b3b",
   "metadata": {},
   "outputs": [
    {
     "name": "stdout",
     "output_type": "stream",
     "text": [
      "200/200\n"
     ]
    }
   ],
   "source": [
    "Ws = train()"
   ]
  },
  {
   "cell_type": "markdown",
   "id": "a3f5566a",
   "metadata": {},
   "source": [
    "### Task 2: Interpreting The Model (8 Points)"
   ]
  },
  {
   "cell_type": "code",
   "execution_count": 3,
   "id": "822e7a07",
   "metadata": {
    "scrolled": true
   },
   "outputs": [
    {
     "name": "stdout",
     "output_type": "stream",
     "text": [
      "positive words:  ['.', 'the', 'and', ',', 'of', 'to', 'is', 'in', 'a', 'that', 'with', 'it', 'for', 'this', ')', '(', 'but', 'as', 'on', 'be', 'are', 'an', 'by', 'at', 'one', 'have', 'his', 'who', 'from', 'film', 'not', 'he', 'movie', 'all', 'i', 'has', '\"', 'out', 'was', 'like', 'so', 'about', 'they', 'when', 'more', 'if', 'you', 'up', 'or', 'some', 'only', 'just', '?', 'what', \"it's\", 'even', 'there', 'into', 'which', 'no', 'than', ':', 'their', 'can', 'time', 'would', 'good', 'much', 'do', 'get', 'been', 'her', 'most', 'after', 'other', 'him', 'them', 'two', 'its', 'make', 'plot', 'we', 'bad', 'any', 'will', 'story', 'character', 'first', 'way', 'too', 'characters', 'off', 'how', 'also', 'had', 'because', 'could', 'then', 'little', 'well', 'where', 'see', 'while', 'does', 'she', 'really', 'very', 'director', \"doesn't\", 'over', \"don't\", 'never', 'through', 'my', 'being', 'me', 'another', 'here', 'people', 'know', 'these', 'such', '!', 'were', 'scene', 'scenes', 'films', 'better', 'end', 'made', 'go', 'should', ';', 'movies', 'best', 'nothing', 'something', 'around', 'before', 'man', 'new', 'why', \"there's\", 'enough', 'work', 'back', 'seems', 'few', 'gets', 'every', 'now', 'many', 'script', 'going', \"isn't\", 'those', 'makes', 'down', 'big', 'look', \"he's\", 'least', 'still', 'audience', 'take', 'thing', 'us', 'think', 'same', 'life', 'actually', 'come', 'though', 'however', 'last', 'plays', 'action', 'between', \"that's\", 'love', 'say', 'long', 'things', 'great', 'fact', 'did', 'real', 'acting', 'role', 'almost', 'played', 'seen', \"can't\", 'comes', 'point', 'since', 'find', 'minutes', 'goes', 'anything']\n",
      "\n",
      "negative words:  ['re-visited', 'mimms', \"reichle's\", '-drenched', 'charasmatic', 'arcand', \"boyd's\", 'roderick', 'big-breasted', 'plaster', 'syllable', 'britt', \"britt's\", 'longstreet', 'thought-transference', 'showings', 'pammy', 'technobabble', 'sheffer', 'traumatised', 'travellers', 'german-', 'profiler', 'zeltser', 'establishments', 'motels', 'yuri', 'lindenlaub', 'gladstone', 'donors', \"'hit\", \"director'\", 'trawls', 'implants', 'enlivens', 'ripple', \"love'\", \"'one\", 'slates', \"silver's\", '10=a', '5=average', '1=a', '8=excellent', '9=borderline', '2=awful', '3=poor', '4=disappointing', '7=good', '6=better']\n"
     ]
    }
   ],
   "source": [
    "# sort the weights descending by value\n",
    "weightsDesc = {word: Ws[word] for word in sorted(Ws, key=Ws.get, reverse=True)}\n",
    "top_words = list(weightsDesc)[0:200]\n",
    "bottom_words = list(weightsDesc)[-50:]\n",
    "print(\"positive words: \", top_words)\n",
    "print(\"\\nnegative words: \", bottom_words)"
   ]
  },
  {
   "cell_type": "markdown",
   "id": "4cfd2a44",
   "metadata": {},
   "source": [
    "### Task 3: Cross-Validation"
   ]
  },
  {
   "cell_type": "code",
   "execution_count": 20,
   "id": "386218f2",
   "metadata": {},
   "outputs": [
    {
     "ename": "ValueError",
     "evalue": "setting an array element with a sequence. The requested array has an inhomogeneous shape after 1 dimensions. The detected shape was (2000,) + inhomogeneous part.",
     "output_type": "error",
     "traceback": [
      "\u001b[1;31m---------------------------------------------------------------------------\u001b[0m",
      "\u001b[1;31mValueError\u001b[0m                                Traceback (most recent call last)",
      "Cell \u001b[1;32mIn[20], line 1\u001b[0m\n\u001b[1;32m----> 1\u001b[0m accuracies \u001b[38;5;241m=\u001b[39m \u001b[43mcross_validate\u001b[49m\u001b[43m(\u001b[49m\u001b[43m)\u001b[49m\n",
      "File \u001b[1;32m~\\OneDrive\\Documents\\School\\Fall2023\\AI\\HW5_Logistic-main\\logistic.py:67\u001b[0m, in \u001b[0;36mcross_validate\u001b[1;34m(n_folds, N, alpha)\u001b[0m\n\u001b[0;32m     63\u001b[0m     fin\u001b[38;5;241m.\u001b[39mclose()\n\u001b[0;32m     65\u001b[0m \u001b[38;5;66;03m# store all reviews up front, randomly permute\u001b[39;00m\n\u001b[0;32m     66\u001b[0m \u001b[38;5;66;03m# separate into folds using np.split()\u001b[39;00m\n\u001b[1;32m---> 67\u001b[0m reviews \u001b[38;5;241m=\u001b[39m np\u001b[38;5;241m.\u001b[39marray(reviews)\n\u001b[0;32m     68\u001b[0m ys \u001b[38;5;241m=\u001b[39m np\u001b[38;5;241m.\u001b[39marray(ys)\n\u001b[0;32m     69\u001b[0m permute_idxs \u001b[38;5;241m=\u001b[39m np\u001b[38;5;241m.\u001b[39mrandom\u001b[38;5;241m.\u001b[39mpermutation(\u001b[38;5;28mlen\u001b[39m(reviews))\n",
      "\u001b[1;31mValueError\u001b[0m: setting an array element with a sequence. The requested array has an inhomogeneous shape after 1 dimensions. The detected shape was (2000,) + inhomogeneous part."
     ]
    }
   ],
   "source": [
    "accuracies = cross_validate()"
   ]
  }
 ],
 "metadata": {
  "kernelspec": {
   "display_name": "Python 3 (ipykernel)",
   "language": "python",
   "name": "python3"
  },
  "language_info": {
   "codemirror_mode": {
    "name": "ipython",
    "version": 3
   },
   "file_extension": ".py",
   "mimetype": "text/x-python",
   "name": "python",
   "nbconvert_exporter": "python",
   "pygments_lexer": "ipython3",
   "version": "3.11.4"
  }
 },
 "nbformat": 4,
 "nbformat_minor": 5
}
